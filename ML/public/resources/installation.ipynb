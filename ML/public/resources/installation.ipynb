{
 "cells": [
  {
   "cell_type": "code",
   "execution_count": null,
   "id": "30694df6-2a4d-49ef-89d5-f1bedea869f7",
   "metadata": {
    "scrolled": true
   },
   "outputs": [],
   "source": [
    "%pip install kaggle\n",
    "\n",
    "# 1. Download kaggle.json\n",
    "#     Go to Kaggle API page.\n",
    "#     Scroll down to the API section.\n",
    "#     Click Create New API Token to download the kaggle.json file. This file contains your Kaggle username and API key.\n",
    "# 2. Place kaggle.json in the Correct Directory\n",
    "#     Move the downloaded kaggle.json file to the folder C:\\Users\\<YourUsername>\\.kaggle\\.\n",
    "#     Ensure that the .kaggle folder exists; if not, create it manually."
   ]
  },
  {
   "cell_type": "code",
   "execution_count": 14,
   "id": "16c83f94-3a57-41bb-acfa-a334f6758be0",
   "metadata": {},
   "outputs": [
    {
     "name": "stdout",
     "output_type": "stream",
     "text": [
      "Dataset URL: https://www.kaggle.com/datasets/camnugent/california-housing-prices\n",
      "Dataset URL: https://www.kaggle.com/datasets/uciml/iris\n",
      "Dataset URL: https://www.kaggle.com/datasets/arunjangir245/boston-housing-dataset\n",
      "Dataset URL: https://www.kaggle.com/datasets/uciml/autompg-dataset\n",
      "Dataset URL: https://www.kaggle.com/datasets/uciml/breast-cancer-wisconsin-data\n",
      "Dataset URL: https://www.kaggle.com/datasets/kasikrit/att-database-of-faces\n",
      "Datasets downloaded and organized into respective subfolders.\n"
     ]
    }
   ],
   "source": [
    "import os\n",
    "from kaggle.api.kaggle_api_extended import KaggleApi\n",
    "import zipfile\n",
    "import shutil\n",
    "\n",
    "# Initialize the Kaggle API\n",
    "api = KaggleApi()\n",
    "api.authenticate()\n",
    "\n",
    "# List of datasets to download, including the Olivetti Faces dataset\n",
    "datasets = [\n",
    "    \"camnugent/california-housing-prices\",\n",
    "    \"uciml/iris\",\n",
    "    \"arunjangir245/boston-housing-dataset\",\n",
    "    \"uciml/autompg-dataset\",\n",
    "    \"uciml/breast-cancer-wisconsin-data\",\n",
    "    \"kasikrit/att-database-of-faces\"\n",
    "]\n",
    "\n",
    "# Download datasets\n",
    "for dataset in datasets:\n",
    "    # Determine a folder for this dataset\n",
    "    dataset_path = os.path.join(\"datasets\", dataset.split(\"/\")[1])\n",
    "    os.makedirs(dataset_path, exist_ok=True)\n",
    "    \n",
    "    # Download and unzip the dataset\n",
    "    api.dataset_download_files(dataset, path=dataset_path, unzip=True)\n",
    "\n",
    "print(\"Datasets downloaded and organized into respective subfolders.\")"
   ]
  }
 ],
 "metadata": {
  "kernelspec": {
   "display_name": "Python 3 (ipykernel)",
   "language": "python",
   "name": "python3"
  },
  "language_info": {
   "codemirror_mode": {
    "name": "ipython",
    "version": 3
   },
   "file_extension": ".py",
   "mimetype": "text/x-python",
   "name": "python",
   "nbconvert_exporter": "python",
   "pygments_lexer": "ipython3",
   "version": "3.12.6"
  }
 },
 "nbformat": 4,
 "nbformat_minor": 5
}
