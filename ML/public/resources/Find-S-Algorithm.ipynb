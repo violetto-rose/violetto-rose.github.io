{
 "cells": [
  {
   "cell_type": "markdown",
   "id": "3c5faa3f-31fc-4356-9933-561e8c84f444",
   "metadata": {},
   "source": [
    "# For a given set of training data examples stored in a .CSV file, implement and demonstrate the Find-S algorithm to output a description of the set of all hypotheses consistent with the training examples."
   ]
  },
  {
   "cell_type": "markdown",
   "id": "cd19dba4-5927-4706-9338-cdfa1858abd7",
   "metadata": {},
   "source": [
    "## The Find-S algorithm is a machine learning algorithm that finds the most specific hypothesis that fits all positive training examples. It's a basic concept learning algorithm.\n",
    "\n",
    "Data Structure:\n",
    "- Each row represents a training example\n",
    "- Each column (except last) represents an attribute\n",
    "- Last column ('EnjoysMarket') is the target concept\n",
    "- 'Yes' means positive example, 'No' means negative example\n",
    "\n",
    "Algorithm Steps:\n",
    "- Start with a very specific hypothesis\n",
    "- Look at each positive training example\n",
    "- Make hypothesis more general if it fails to cover the example\n",
    "- Keep hypothesis as specific as possible while covering all positive examples\n",
    "\n",
    "Generalization Rules:\n",
    "- If attribute values differ, replace with '?'\n",
    "- '?' means \"any value\" (most general value)\n",
    "- Keep specific values when they're consistent\n",
    "\n",
    "Output:\n",
    "- Shows the most specific hypothesis that covers all positive examples\n",
    "- '?' indicates attributes that don't matter"
   ]
  },
  {
   "cell_type": "code",
   "execution_count": 2,
   "id": "2f4b9d3d-db3e-4d3d-8216-9ba383f6e4dd",
   "metadata": {},
   "outputs": [
    {
     "name": "stdout",
     "output_type": "stream",
     "text": [
      "Training Data:\n",
      "  Weather Temperature Humidity    Wind EnjoysMarket\n",
      "0   Sunny        Warm   Normal  Strong          Yes\n",
      "1   Rainy        Cold     High  Strong           No\n",
      "2   Sunny        Warm     High    Weak          Yes\n",
      "3  Cloudy        Warm     High    Weak          Yes\n",
      "4   Sunny        Cold   Normal    Weak           No\n",
      "\n",
      "Applying Find-S Algorithm...\n",
      "\n",
      "Final Hypothesis:\n",
      "Weather           ?\n",
      "Temperature    Warm\n",
      "Humidity          ?\n",
      "Wind              ?\n",
      "Name: 0, dtype: object\n"
     ]
    }
   ],
   "source": [
    "import csv\n",
    "import pandas as pd\n",
    "\n",
    "def find_s_algorithm(data):\n",
    "    # Initialize hypothesis with the first positive example\n",
    "    hypothesis = None\n",
    "    \n",
    "    # Process each training example\n",
    "    for index, row in data.iterrows():\n",
    "        # Consider only positive examples\n",
    "        if row['EnjoysMarket'] == 'Yes':  # Assuming 'EnjoysMarket' is our target\n",
    "            # For first positive example, initialize hypothesis\n",
    "            if hypothesis is None:\n",
    "                hypothesis = row[:-1].copy()  # Copy all attributes except the last (target)\n",
    "            # For subsequent positive examples\n",
    "            else:\n",
    "                for attr in hypothesis.index:\n",
    "                    # If attribute values are different, make it more general\n",
    "                    if hypothesis[attr] != row[attr]:\n",
    "                        hypothesis[attr] = '?'\n",
    "    \n",
    "    return hypothesis\n",
    "\n",
    "df = pd.read_csv('weather_data.csv')\n",
    "print(\"Training Data:\")\n",
    "print(df)\n",
    "print(\"\\nApplying Find-S Algorithm...\")\n",
    "\n",
    "# Apply Find-S algorithm\n",
    "hypothesis = find_s_algorithm(df)\n",
    "print(\"\\nFinal Hypothesis:\")\n",
    "print(hypothesis)"
   ]
  },
  {
   "cell_type": "markdown",
   "id": "01d6257e-d544-438c-973e-b8ae48b74fb4",
   "metadata": {},
   "source": [
    "This means:\n",
    "- Temperature must be 'Warm'\n",
    "- Other attributes can be any value"
   ]
  }
 ],
 "metadata": {
  "kernelspec": {
   "display_name": "Python 3 (ipykernel)",
   "language": "python",
   "name": "python3"
  },
  "language_info": {
   "codemirror_mode": {
    "name": "ipython",
    "version": 3
   },
   "file_extension": ".py",
   "mimetype": "text/x-python",
   "name": "python",
   "nbconvert_exporter": "python",
   "pygments_lexer": "ipython3",
   "version": "3.12.6"
  }
 },
 "nbformat": 4,
 "nbformat_minor": 5
}
